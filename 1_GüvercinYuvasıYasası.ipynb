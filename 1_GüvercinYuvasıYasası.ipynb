{
 "cells": [
  {
   "cell_type": "markdown",
   "metadata": {},
   "source": [
    "GÜVERCİN YUVASI PRENSİBİ ÖDEV1\n",
    "Hamza KEÇELİ 185112014 "
   ]
  },
  {
   "cell_type": "markdown",
   "metadata": {},
   "source": [
    "Soru:\n",
    "950 String ifade  ve 100 hash tablosu vardır, güvercin yasası prensibine göre;\n",
    "\n",
    "1. Tablodaki bir adresin hiç string ifade içermemesi mümkün mü?\n",
    "2. Tabloda en az bir adresin birden fazla veri içerdigi garanti midir?\n",
    "3. Tabloda en az bir adresin en az 10 giris içermesi garanti midir?\n",
    "4. Tabloda en az bir adresin en az 11 giris içermesi garanti midir?\n",
    "5. 950 string ifadenin aynı adres içerisinde olabilir.\n"
   ]
  },
  {
   "cell_type": "markdown",
   "metadata": {},
   "source": [
    "    ------KURAL------\n",
    "g,y ∈ Z+\n",
    "g : güvercin\n",
    "y : yuva \n",
    "En az bir yuva  g/y  güvercin içerir"
   ]
  },
  {
   "cell_type": "code",
   "execution_count": 1,
   "metadata": {},
   "outputs": [
    {
     "name": "stdout",
     "output_type": "stream",
     "text": [
      "1: EVET: Tüm string ifadeler tek bir adres içerisine yerlestirilebilir.Diğer adresler boş olabilir.\n",
      "sonuc:\n",
      "10.0\n",
      "2: sonuc>=1  ->en az bir adreste birden fazla veri içermesi garantidir.\n",
      "3: sonuc>=10 ->en az bir adresin en az 10 giriş içermesi garantidir.\n",
      "4: sonuc<11  ->en az bir adresin en az 11 giriş içermesi garanti değildir.\n",
      "5: EVET: Tüm string ifadeler tek bir adres içerisine yerlestirilebilir.\n"
     ]
    }
   ],
   "source": [
    "#1. Tablodaki bir adresin hiç string ifade içermemesi mümkün mü?\n",
    "print(\"1: EVET: Tüm string ifadeler tek bir adres içerisine yerlestirilebilir.Diğer adresler boş olabilir.\")\n",
    "\n",
    "\n",
    "# 2. Tabloda en az bir adresin birden fazla veri içerdigi garanti midir?\n",
    "\n",
    "AdresSayisi=100\n",
    "StringSayisi=959\n",
    "sonuc=StringSayisi/AdresSayisi  #en az bir yuva kaç adet string içerir bulunur.\n",
    "\n",
    "if sonuc%1>0:                  #sonuc ondalıklı mı\n",
    " sonuc=(sonuc-sonuc%1)+1       #yukarı yuvarla\n",
    "print(\"sonuc:\") \n",
    "print(sonuc)\n",
    "\n",
    "if sonuc>=1:\n",
    " print(\"2: sonuc>=1  ->en az bir adreste birden fazla veri içermesi garantidir.\")\n",
    "\n",
    "\n",
    "#3. Tabloda en az bir adresin en az 10 giris içermesi garanti midir?\n",
    "\n",
    "if sonuc>=10:\n",
    " print(\"3: sonuc>=10 ->en az bir adresin en az 10 giriş içermesi garantidir.\")\n",
    "\n",
    "\n",
    "#4. Tabloda en az bir adresin en az 11 giris içermesi garanti midir?\n",
    "if sonuc<11:\n",
    " print(\"4: sonuc<11  ->en az bir adresin en az 11 giriş içermesi garanti değildir.\")\n",
    "\n",
    "#5. 950 string ifadenin aynı adres içerisinde olabilir.\n",
    "print(\"5: EVET: Tüm string ifadeler tek bir adres içerisine yerlestirilebilir.\")"
   ]
  },
  {
   "cell_type": "code",
   "execution_count": null,
   "metadata": {},
   "outputs": [],
   "source": []
  }
 ],
 "metadata": {
  "kernelspec": {
   "display_name": "Python 3",
   "language": "python",
   "name": "python3"
  },
  "language_info": {
   "codemirror_mode": {
    "name": "ipython",
    "version": 3
   },
   "file_extension": ".py",
   "mimetype": "text/x-python",
   "name": "python",
   "nbconvert_exporter": "python",
   "pygments_lexer": "ipython3",
   "version": "3.7.1"
  }
 },
 "nbformat": 4,
 "nbformat_minor": 2
}
