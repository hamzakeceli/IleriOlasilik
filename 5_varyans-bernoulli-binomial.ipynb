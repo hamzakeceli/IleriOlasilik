{
  "nbformat": 4,
  "nbformat_minor": 0,
  "metadata": {
    "colab": {
      "name": "Welcome To Colaboratory",
      "version": "0.3.2",
      "provenance": [],
      "collapsed_sections": [],
      "toc_visible": true,
      "include_colab_link": true
    },
    "kernelspec": {
      "display_name": "Python 3",
      "name": "python3"
    }
  },
  "cells": [
    {
      "cell_type": "markdown",
      "metadata": {
        "id": "view-in-github",
        "colab_type": "text"
      },
      "source": [
        "<a href=\"https://colab.research.google.com/github/hamzakeceli/IleriOlasilik/blob/master/5_varyans-bernoulli-binomial.ipynb\" target=\"_parent\"><img src=\"https://colab.research.google.com/assets/colab-badge.svg\" alt=\"Open In Colab\"/></a>"
      ]
    },
    {
      "cell_type": "markdown",
      "metadata": {
        "id": "wt9o4G9pdfX6",
        "colab_type": "text"
      },
      "source": [
        "#                      *VARYANS*\n",
        "\n",
        "Ortalaması 𝛍 olan rastgele X degiskenin varyansı   Var(X) = E[(X-𝛍)^2]\n",
        "\n",
        "Ali matematik dersinden 30 40 50 60 70 almıştır. Alinin notlarının varyansını bulunuz."
      ]
    },
    {
      "cell_type": "markdown",
      "metadata": {
        "id": "eVWNIRR1evtj",
        "colab_type": "text"
      },
      "source": [
        "*bold text**"
      ]
    },
    {
      "cell_type": "code",
      "metadata": {
        "id": "myUaj97Jg6Sp",
        "colab_type": "code",
        "colab": {
          "base_uri": "https://localhost:8080/",
          "height": 34
        },
        "outputId": "eee511fe-33e9-4b34-ca3f-031382f0da07"
      },
      "source": [
        "toplam=0;sonuc=0\n",
        "notlar=[30,40,50,60,70]\n",
        "elemansayısı=len(notlar)\n",
        "\n",
        "#ortalama bulma\n",
        "for ntlr in notlar:                \n",
        "  toplam=toplam+ntlr     \n",
        "  \n",
        "ortalama=toplam/elemansayısı\n",
        "  \n",
        "#varyans hesap \n",
        "for ntlr in notlar:\n",
        "    sonuc=sonuc+((ntlr-ortalama)**2)/elemansayısı\n",
        "    \n",
        "print(\"Alinin notlarının varyansı:  \",sonuc)"
      ],
      "execution_count": 76,
      "outputs": [
        {
          "output_type": "stream",
          "text": [
            "Alinin notlarının varyansı:   200.0\n"
          ],
          "name": "stdout"
        }
      ]
    },
    {
      "cell_type": "markdown",
      "metadata": {
        "id": "Lsj435deLevd",
        "colab_type": "text"
      },
      "source": [
        "# **Bernoulli**\n",
        "\n",
        "\n",
        "Bir öğrenci İstatistik dersinden geçme olasılığının 0.7 olduğuna inanmaktadır. \n",
        "\n",
        "Olasılık dağılımının fonksiyonunu yazınız? Ortalamasını ve varyansını bulunuz?\n",
        "\n",
        "Öğrenci dersten geçerse X rassal değişkeni x = 1 ve kalırsa x = 0 değerini alırsa,\n",
        "\n",
        "Xrassal değişkeninin olasılık dağılımı şöyle yazılabilir:\n",
        "P (x=1) = 0.7 ve P (x=0) = 0.3\n",
        "\n",
        "\n",
        "\n",
        "\n",
        "\n",
        "Olasılık dağılım fonksiyonu:\n",
        "**P ( X = x ) = p^x(1 – p)^1-x    x=0,1**\n",
        "\n",
        "= 0.7^x(1 – 0.7)^1-x = 0.7^x*0.3^1-x olarak bulunur.\n",
        "\n",
        "x’in alacağı 1 ve 0 değerlerine göre olasılık dağılımı aşağıdaki gibi bulunur.\n",
        "\n",
        "P ( x = 1 ) = p^1(1 – p)^(1-1) = 0.7^1(1 – 0.7)^0 = 0.7*0.3^0= 0.7\n",
        "\n",
        "P ( x = 0 ) = p^0(1 – p)^1-0 = 0.7^0(1 – 0.7)^1 = 0.7^0*0.3^1= 0.3\n",
        "\n",
        "\n",
        "Aritmetik ortalaması: µx = E (X) = p = 0.7\n",
        "\n",
        "Varyansı: p (1 – p) = 0.7*0.3 =0.21 olarak bulunur."
      ]
    },
    {
      "cell_type": "code",
      "metadata": {
        "id": "PynaMXTOLiVL",
        "colab_type": "code",
        "colab": {
          "base_uri": "https://localhost:8080/",
          "height": 34
        },
        "outputId": "1ac536ce-fdde-49c4-b874-ec13ed7d4c89"
      },
      "source": [
        "Px1=(0.7**1)*((1-0.7)**(1-1))\n",
        "Px0=(0.7**0)*((1-0.7)**(1-0))\n",
        "aritmetikortalama=0.7\n",
        "varyans=0.7*0.3\n",
        "\n",
        "print(\"P(x=1)  :\",Px1,\"P(x=0)  :\",Px0,\"aritmetikortalama  :\",aritmetikortalama,\"varyans  :\",varyans)"
      ],
      "execution_count": 77,
      "outputs": [
        {
          "output_type": "stream",
          "text": [
            "P(x=1)  : 0.7 P(x=0)  : 0.30000000000000004 aritmetikortalama  : 0.7 varyans  : 0.21\n"
          ],
          "name": "stdout"
        }
      ]
    },
    {
      "cell_type": "markdown",
      "metadata": {
        "id": "_HWfRCLh50IX",
        "colab_type": "text"
      },
      "source": [
        "# **Binomial**\n",
        "X rastgele degiskenin binomial dagılımı:\n",
        "\n",
        "X~Bin(n,p)\n",
        "\n",
        "Binomial dagılımının olasılık fonksiyonu:\n",
        "\n",
        "Binomial dagılımının olasılık fonksiyonu:\n",
        "\n",
        "P(X = k) = (n,k). p^k .(1-p)^n-k,       k = 0,1, … , n\n",
        "                     \n",
        "E[X]= np\n",
        "Var(X) = np(1-p)\n",
        "\n",
        "\n",
        "**Örnek:**\n",
        "\n",
        "Ameliyat edilen Hasta sayısı: 10  başarılı olma olasılığı 0.8\n",
        "\n",
        "En az 9 hastanın iyilesme olasılıgı?\n",
        "\n",
        "X~Bin(n = 10 , p = 0.80)\n",
        "\n",
        "P(X ≥ 9) = P(X = 9) + P(X = 10)\n",
        "\n",
        "\n",
        "\n",
        "Ameliyatı basarı ile sonuçlanacak hastaların beklenen sayısı ve\n",
        "varyansı\n",
        "\n",
        "\n",
        "X~Bin(n = 10 , p = 0.80)\n",
        "\n",
        "E(X) = np = 10(0.8) = 8\n",
        "\n",
        "Var(X) = np(1-p) = 10(0.8)(0.2) = 1.6\n"
      ]
    },
    {
      "cell_type": "code",
      "metadata": {
        "id": "9iAHrcvHB9Q4",
        "colab_type": "code",
        "colab": {
          "base_uri": "https://localhost:8080/",
          "height": 52
        },
        "outputId": "7268e2f4-4834-4562-b91d-0d00359eef4f"
      },
      "source": [
        "def faktoriyel(sayi):\n",
        "    if sayi==1 or sayi==0:\n",
        "        return 1\n",
        "    else:\n",
        "        return sayi*faktoriyel(sayi-1)\n",
        "      \n",
        "def kombinasyon(a,b):\n",
        "   \n",
        "    if b>a:\n",
        "        sonuc=0\n",
        "    else:\n",
        "        sonuc=faktoriyel(a)/(faktoriyel(a-b)*faktoriyel(b))\n",
        "        return sonuc\n",
        "      \n",
        "      \n",
        "snc=kombinasyon(10,9)*(0.8**9)*((1-0.8)**(10-9))+kombinasyon(10,10)*(0.8**10)*((1-0.8)**(10-10))\n",
        "print(\"En az 9 hastanın iyileşme olasılığı: (9veya10):  \",snc)\n",
        "\n",
        "\n",
        "basarıbeklenen=10*0.8   \n",
        "varyans=10*0.8*(0.2)\n",
        "\n",
        "print(\"Ameliyatı basarı ile sonuçlanacak hastaların beklenen sayısı    :\",basarıbeklenen,\"varyansı   :\",varyans)"
      ],
      "execution_count": 78,
      "outputs": [
        {
          "output_type": "stream",
          "text": [
            "En az 9 hastanın iyileşme olasılığı: (9veya10):   0.37580963840000015\n",
            "Ameliyatı basarı ile sonuçlanacak hastaların beklenen sayısı    : 8.0 varyansı   : 1.6\n"
          ],
          "name": "stdout"
        }
      ]
    }
  ]
}