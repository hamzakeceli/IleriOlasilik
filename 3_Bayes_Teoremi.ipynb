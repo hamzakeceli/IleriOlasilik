{
  "nbformat": 4,
  "nbformat_minor": 0,
  "metadata": {
    "colab": {
      "name": "Welcome To Colaboratory",
      "version": "0.3.2",
      "provenance": [],
      "collapsed_sections": [],
      "toc_visible": true,
      "include_colab_link": true
    },
    "kernelspec": {
      "display_name": "Python 3",
      "name": "python3"
    }
  },
  "cells": [
    {
      "cell_type": "markdown",
      "metadata": {
        "id": "view-in-github",
        "colab_type": "text"
      },
      "source": [
        "<a href=\"https://colab.research.google.com/github/hamzakeceli/IleriOlasilik/blob/master/3_Bayes_Teoremi.ipynb\" target=\"_parent\"><img src=\"https://colab.research.google.com/assets/colab-badge.svg\" alt=\"Open In Colab\"/></a>"
      ]
    },
    {
      "metadata": {
        "id": "0DIYWnQr36ou",
        "colab_type": "text"
      },
      "cell_type": "markdown",
      "source": [
        "**Bayes Teoremi**\n",
        "\n",
        "\n",
        "\n",
        "Ali kaşındığını söylüyor. Kedi alerjisi için bir test var, ancak bu test her zaman doğru değil: \n",
        "\n",
        "Gerçekten alerjisi olan insanlar için, testin “Evet” sonucu vermesi %80 oranında.\n",
        "\n",
        "\n",
        "Alerjisi olmayan insanlar için, testin “Evet” sonucu vermesi %10 oranında . \n",
        "\n",
        "Nüfusun %1’inde alerji varsa ve test “Evet” çıkıyorsa, Ali’nin gerçekten alerji olma olasılığı nedir?\n",
        "\n",
        "\n",
        "\n",
        "\n",
        "\n",
        "A: Alerji, B: Testin Evet çıkması\n",
        "\n",
        "P(A) : Alerji olasılığı = 0.01\n",
        "\n",
        "P(B) : Testin evet çıkma olasılığı = >P(B) = 0.01 * 0.80 + 0.99 * 0.10 = 0.107 bulduk.\n",
        "\n",
        "P(A|B) : Testin evet çıkması durumunda alerji olasılığı = ?? (istenen sonuç)\n",
        "\n",
        "P(B|A) : Alerji olması durumunda testin evet çıkma olasılığı = 0.80\n",
        "\n",
        "\n",
        "P(A|B)=P(A)*P(B|A)/P(B) => 0.01 * 0.80 / 0.107 = 0.075 => yaklaşık %7 bulunur."
      ]
    },
    {
      "metadata": {
        "id": "JRMmncAQ4oSm",
        "colab_type": "code",
        "colab": {
          "base_uri": "https://localhost:8080/",
          "height": 34
        },
        "outputId": "e2f8785c-3423-4c33-fa7f-a8f57d0da2cd"
      },
      "cell_type": "code",
      "source": [
        "Pa=0.01\n",
        "Pb = 0.01*0.80 + 0.99*0.1\n",
        "Pba=0.8\n",
        "Pab=Pa*Pba/Pb\n",
        "print(Pab)"
      ],
      "execution_count": 21,
      "outputs": [
        {
          "output_type": "stream",
          "text": [
            "0.07476635514018691\n"
          ],
          "name": "stdout"
        }
      ]
    }
  ]
}