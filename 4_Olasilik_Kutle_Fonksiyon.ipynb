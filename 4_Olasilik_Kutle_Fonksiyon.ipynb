{
  "nbformat": 4,
  "nbformat_minor": 0,
  "metadata": {
    "colab": {
      "name": "Welcome To Colaboratory",
      "version": "0.3.2",
      "provenance": [],
      "collapsed_sections": [],
      "include_colab_link": true
    },
    "kernelspec": {
      "display_name": "Python 3",
      "name": "python3"
    }
  },
  "cells": [
    {
      "cell_type": "markdown",
      "metadata": {
        "id": "view-in-github",
        "colab_type": "text"
      },
      "source": [
        "<a href=\"https://colab.research.google.com/github/hamzakeceli/IleriOlasilik/blob/master/Olasilik_Kutle_Fonksiyon.ipynb\" target=\"_parent\"><img src=\"https://colab.research.google.com/assets/colab-badge.svg\" alt=\"Open In Colab\"/></a>"
      ]
    },
    {
      "metadata": {
        "id": "BWF78mPcPItj",
        "colab_type": "text"
      },
      "cell_type": "markdown",
      "source": [
        "**OLASILIK KÜTLE FONKSİYONU**\n",
        "\n",
        "Torbada 4 Yeşil, 3 Mavi top vardır.\n",
        "\n",
        "Torbadan 2 top çekiliyor.Mavi top gelme sayısına ait kesikli olasılık dagılımını bulunuz.\n",
        "\n",
        "Rasgele Degisken   X= { 0, 1, 2 }\n",
        "\n",
        "\n",
        "\n",
        "P(X=0) =(4/7)*(3/6)=2/7                            YY\n",
        "\n",
        "P(X=1) =(4/7)*(3/6)+(3/7)*(4/6)=4/7     YM MY\n",
        "\n",
        "P(X=2) =(3/7)*(2/6)=1/7                             MM\n",
        "\n",
        "\n",
        "------X---------0---------1----------2\n",
        "\n",
        "-----------------------------------------------------\n",
        "P(X=x)----- 2/7----4/7 -------1/7"
      ]
    },
    {
      "metadata": {
        "id": "jIV-gFJrT0DT",
        "colab_type": "code",
        "colab": {
          "base_uri": "https://localhost:8080/",
          "height": 70
        },
        "outputId": "5804fb4b-754a-4f17-8970-661402b56820"
      },
      "cell_type": "code",
      "source": [
        "Px0=(4/7)*(3/6)\n",
        "Px1=(4/7)*(3/6)+(3/7)*(4/6)\n",
        "Px2=(3/7)*(2/6)\n",
        "print(\"P(X=0)->  \",Px0)\n",
        "print(\"P(X=1)->  \",Px1)\n",
        "print(\"P(X=2)->  \",Px2)\n"
      ],
      "execution_count": 10,
      "outputs": [
        {
          "output_type": "stream",
          "text": [
            "P(X=0)->   0.2857142857142857\n",
            "P(X=1)->   0.5714285714285714\n",
            "P(X=2)->   0.14285714285714285\n"
          ],
          "name": "stdout"
        }
      ]
    }
  ]
}
