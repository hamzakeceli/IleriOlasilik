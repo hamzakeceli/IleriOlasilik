{
  "nbformat": 4,
  "nbformat_minor": 0,
  "metadata": {
    "colab": {
      "name": "Untitled0.ipynb",
      "version": "0.3.2",
      "provenance": [],
      "include_colab_link": true
    },
    "kernelspec": {
      "name": "python3",
      "display_name": "Python 3"
    }
  },
  "cells": [
    {
      "cell_type": "markdown",
      "metadata": {
        "id": "view-in-github",
        "colab_type": "text"
      },
      "source": [
        "<a href=\"https://colab.research.google.com/github/hamzakeceli/IleriOlasilik/blob/master/2_Permutasyon-Olasilik.ipynb\" target=\"_parent\"><img src=\"https://colab.research.google.com/assets/colab-badge.svg\" alt=\"Open In Colab\"/></a>"
      ]
    },
    {
      "metadata": {
        "id": "X5_cRJ3_lhlx",
        "colab_type": "text"
      },
      "cell_type": "markdown",
      "source": [
        "  **Permütasyon ve Kombinasyon ödevi**\n",
        "\n",
        "Türkiye- Azerbaycan dostluk maçı:\n",
        "11 Türkiye futbolcusu         1  teknik adam;\n",
        "11 Azerbaycan futbolcusu 1 teknik adam  olmak üzere toplam 24 kişi;\n",
        "\n",
        "\n",
        " \n",
        " **permütasyon**\n",
        "Maçtan önce takımlar arasında yuvarlak masa etrafında yemek yenilecektir.\n",
        "Teknik adamlar yanyana olacak ve aynı takımlı hiçbir futbolcu yanyana olmayacak şekilde\n",
        "kaç farklı şekilde yuvarlak masa etrafına oturabilirler.\n",
        "\n",
        "\n",
        "\n",
        "\n",
        "ÇÖZÜM: PERMÜTASYON\n",
        "Teknik Adamlar  2\n",
        "Türkiye 11\n",
        "Azerbaycan 11\n",
        "\n",
        "                   (3-1)!* 2!* 11!* 11!\n",
        "\n",
        "\n",
        "(3-1)! : Dönerli permutasyon formülü 3 grup var.\n",
        "2!:  Teknik adamlar kendi arasında yer değiştirebilir.\n",
        "11!:  Türkiye oyuncuları kendi arasında yer değiştirebilir.\n",
        "11!:  Azerbaycan oyuncuları kendi arasında yer değiştirebilir.\n",
        "\n",
        "\n",
        "\n",
        "**kombinasyon**\n",
        "Maç öncesi basın açıklama yapmak için 1 teknik adam  ve 3 futbolcu (her takımdam en az 1 kişi olacak şekilde) kaç farklı şekilde seçilebilinir.\n",
        "\n",
        "ÇÖZÜM2:KOMBİNASYON\n",
        "\n",
        "Teknik Adamlar  2\n",
        "Türkiye 11\n",
        "Azerbaycan 11\n",
        "                                      \n",
        "\n",
        "\t\n",
        "\t                             1.olasılık C(2,1)*C(11,2)*C(11,1)   1Teknik adam 2 Türk 1 Azerbaycan\n",
        "                                                              +\n",
        "                               2.olasılık C(2,1)*C(11,1)*C(11,2)   1Teknik adam 1 Türk 2 Azerbaycan\n",
        "\n",
        "               \n",
        "                                                            =   (C(2,1)*C(11,2)*C(11,1))*2\n"
      ]
    },
    {
      "metadata": {
        "id": "_xc7R-iplEt_",
        "colab_type": "code",
        "colab": {
          "base_uri": "https://localhost:8080/",
          "height": 51
        },
        "outputId": "5ef9ddf0-e0dc-4b59-c84e-0d740dcf51aa"
      },
      "cell_type": "code",
      "source": [
        "def faktoriyel(sayi):\n",
        "    if sayi==1:\n",
        "        return 1\n",
        "    else:\n",
        "        return sayi*faktoriyel(sayi-1)\n",
        "      \n",
        "def kombinasyon(a,b):\n",
        "   \n",
        "    if b>a:\n",
        "        sonuc=0\n",
        "    else:\n",
        "        sonuc=faktoriyel(a)/(faktoriyel(a-b)*faktoriyel(b))\n",
        "        return sonuc\n",
        "\n",
        "\n",
        "      \n",
        "\n",
        "print(faktoriyel(3-1)*faktoriyel(2)*faktoriyel(11)*faktoriyel(11))\n",
        "print(kombinasyon(2,1)*kombinasyon(11,2)*kombinasyon(11,1)*2)\n",
        "\n"
      ],
      "execution_count": 27,
      "outputs": [
        {
          "output_type": "stream",
          "text": [
            "6373403688960000\n",
            "2420.0\n"
          ],
          "name": "stdout"
        }
      ]
    }
  ]
}